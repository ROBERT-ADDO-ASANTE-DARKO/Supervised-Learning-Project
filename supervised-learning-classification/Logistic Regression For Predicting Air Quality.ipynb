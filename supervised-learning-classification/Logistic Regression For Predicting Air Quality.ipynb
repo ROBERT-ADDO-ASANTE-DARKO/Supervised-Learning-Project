{
 "cells": [
  {
   "cell_type": "code",
   "execution_count": 2,
   "id": "ffc519f9",
   "metadata": {},
   "outputs": [],
   "source": [
    "import numpy as np\n",
    "import pandas as pd\n",
    "import matplotlib.pyplot as plt\n",
    "import seaborn as sns\n",
    "from sklearn.linear_model import LogisticRegression\n",
    "from sklearn.model_selection import train_test_split\n",
    "from sklearn.metrics import accuracy_score, precision_score, confusion_matrix\n",
    "%matplotlib inline"
   ]
  },
  {
   "cell_type": "code",
   "execution_count": 3,
   "id": "4e330f7c",
   "metadata": {},
   "outputs": [
    {
     "data": {
      "text/html": [
       "<div>\n",
       "<style scoped>\n",
       "    .dataframe tbody tr th:only-of-type {\n",
       "        vertical-align: middle;\n",
       "    }\n",
       "\n",
       "    .dataframe tbody tr th {\n",
       "        vertical-align: top;\n",
       "    }\n",
       "\n",
       "    .dataframe thead th {\n",
       "        text-align: right;\n",
       "    }\n",
       "</style>\n",
       "<table border=\"1\" class=\"dataframe\">\n",
       "  <thead>\n",
       "    <tr style=\"text-align: right;\">\n",
       "      <th></th>\n",
       "      <th>ID</th>\n",
       "      <th>Datetime</th>\n",
       "      <th>Sensor1_PM2.5</th>\n",
       "      <th>Sensor2_PM2.5</th>\n",
       "      <th>Temperature</th>\n",
       "      <th>Relative_Humidity</th>\n",
       "      <th>Offset_fault</th>\n",
       "    </tr>\n",
       "  </thead>\n",
       "  <tbody>\n",
       "    <tr>\n",
       "      <th>0</th>\n",
       "      <td>ID_QF0ZTQJ2SF5Q</td>\n",
       "      <td>2021-11-03 04:06:31</td>\n",
       "      <td>52.58</td>\n",
       "      <td>49.52</td>\n",
       "      <td>17.4</td>\n",
       "      <td>96.0</td>\n",
       "      <td>0</td>\n",
       "    </tr>\n",
       "    <tr>\n",
       "      <th>1</th>\n",
       "      <td>ID_4GTK689CNX5S</td>\n",
       "      <td>2021-11-08 18:43:23</td>\n",
       "      <td>35.25</td>\n",
       "      <td>33.40</td>\n",
       "      <td>25.0</td>\n",
       "      <td>75.0</td>\n",
       "      <td>0</td>\n",
       "    </tr>\n",
       "    <tr>\n",
       "      <th>2</th>\n",
       "      <td>ID_DL7VVKW9U7XQ</td>\n",
       "      <td>2021-11-07 09:50:33</td>\n",
       "      <td>19.18</td>\n",
       "      <td>23.50</td>\n",
       "      <td>24.9</td>\n",
       "      <td>75.0</td>\n",
       "      <td>0</td>\n",
       "    </tr>\n",
       "    <tr>\n",
       "      <th>3</th>\n",
       "      <td>ID_6XQOMBXM2DG3</td>\n",
       "      <td>2022-01-01 18:55:15</td>\n",
       "      <td>19.40</td>\n",
       "      <td>15.48</td>\n",
       "      <td>24.9</td>\n",
       "      <td>70.0</td>\n",
       "      <td>0</td>\n",
       "    </tr>\n",
       "    <tr>\n",
       "      <th>4</th>\n",
       "      <td>ID_UQZW9ISJY9QE</td>\n",
       "      <td>2021-11-05 22:23:48</td>\n",
       "      <td>38.30</td>\n",
       "      <td>34.77</td>\n",
       "      <td>20.9</td>\n",
       "      <td>89.0</td>\n",
       "      <td>0</td>\n",
       "    </tr>\n",
       "  </tbody>\n",
       "</table>\n",
       "</div>"
      ],
      "text/plain": [
       "                ID            Datetime  Sensor1_PM2.5  Sensor2_PM2.5  \\\n",
       "0  ID_QF0ZTQJ2SF5Q 2021-11-03 04:06:31          52.58          49.52   \n",
       "1  ID_4GTK689CNX5S 2021-11-08 18:43:23          35.25          33.40   \n",
       "2  ID_DL7VVKW9U7XQ 2021-11-07 09:50:33          19.18          23.50   \n",
       "3  ID_6XQOMBXM2DG3 2022-01-01 18:55:15          19.40          15.48   \n",
       "4  ID_UQZW9ISJY9QE 2021-11-05 22:23:48          38.30          34.77   \n",
       "\n",
       "   Temperature  Relative_Humidity  Offset_fault  \n",
       "0         17.4               96.0             0  \n",
       "1         25.0               75.0             0  \n",
       "2         24.9               75.0             0  \n",
       "3         24.9               70.0             0  \n",
       "4         20.9               89.0             0  "
      ]
     },
     "execution_count": 3,
     "metadata": {},
     "output_type": "execute_result"
    }
   ],
   "source": [
    "train_data = pd.read_csv(\"train.csv\", parse_dates = [\"Datetime\"])\n",
    "test_data = pd.read_csv(\"test.csv\", parse_dates = [\"Datetime\"])\n",
    "samplesubmission = pd.read_csv(\"SampleSubmission.csv\")\n",
    "train_data.head()"
   ]
  },
  {
   "cell_type": "code",
   "execution_count": 4,
   "id": "837c7330",
   "metadata": {},
   "outputs": [
    {
     "data": {
      "text/html": [
       "<div>\n",
       "<style scoped>\n",
       "    .dataframe tbody tr th:only-of-type {\n",
       "        vertical-align: middle;\n",
       "    }\n",
       "\n",
       "    .dataframe tbody tr th {\n",
       "        vertical-align: top;\n",
       "    }\n",
       "\n",
       "    .dataframe thead th {\n",
       "        text-align: right;\n",
       "    }\n",
       "</style>\n",
       "<table border=\"1\" class=\"dataframe\">\n",
       "  <thead>\n",
       "    <tr style=\"text-align: right;\">\n",
       "      <th></th>\n",
       "      <th>ID</th>\n",
       "      <th>Datetime</th>\n",
       "      <th>Sensor1_PM2.5</th>\n",
       "      <th>Sensor2_PM2.5</th>\n",
       "      <th>Temperature</th>\n",
       "      <th>Relative_Humidity</th>\n",
       "    </tr>\n",
       "  </thead>\n",
       "  <tbody>\n",
       "    <tr>\n",
       "      <th>0</th>\n",
       "      <td>ID_STL3V9B2OU12</td>\n",
       "      <td>2022-01-28 08:49:41</td>\n",
       "      <td>90.75</td>\n",
       "      <td>114.78</td>\n",
       "      <td>22.2</td>\n",
       "      <td>56.0</td>\n",
       "    </tr>\n",
       "    <tr>\n",
       "      <th>1</th>\n",
       "      <td>ID_U2EKAY4SGA94</td>\n",
       "      <td>2022-02-16 21:30:17</td>\n",
       "      <td>56.03</td>\n",
       "      <td>52.18</td>\n",
       "      <td>NaN</td>\n",
       "      <td>NaN</td>\n",
       "    </tr>\n",
       "    <tr>\n",
       "      <th>2</th>\n",
       "      <td>ID_UJFLEWQR0U4N</td>\n",
       "      <td>2022-01-24 17:57:18</td>\n",
       "      <td>387.35</td>\n",
       "      <td>346.73</td>\n",
       "      <td>28.1</td>\n",
       "      <td>63.0</td>\n",
       "    </tr>\n",
       "    <tr>\n",
       "      <th>3</th>\n",
       "      <td>ID_S2C2GPGA4R5I</td>\n",
       "      <td>2022-01-31 07:07:09</td>\n",
       "      <td>63.17</td>\n",
       "      <td>83.85</td>\n",
       "      <td>21.6</td>\n",
       "      <td>82.0</td>\n",
       "    </tr>\n",
       "    <tr>\n",
       "      <th>4</th>\n",
       "      <td>ID_5V2C2ZL221H8</td>\n",
       "      <td>2022-01-31 00:37:05</td>\n",
       "      <td>69.23</td>\n",
       "      <td>53.07</td>\n",
       "      <td>22.7</td>\n",
       "      <td>80.0</td>\n",
       "    </tr>\n",
       "  </tbody>\n",
       "</table>\n",
       "</div>"
      ],
      "text/plain": [
       "                ID            Datetime  Sensor1_PM2.5  Sensor2_PM2.5  \\\n",
       "0  ID_STL3V9B2OU12 2022-01-28 08:49:41          90.75         114.78   \n",
       "1  ID_U2EKAY4SGA94 2022-02-16 21:30:17          56.03          52.18   \n",
       "2  ID_UJFLEWQR0U4N 2022-01-24 17:57:18         387.35         346.73   \n",
       "3  ID_S2C2GPGA4R5I 2022-01-31 07:07:09          63.17          83.85   \n",
       "4  ID_5V2C2ZL221H8 2022-01-31 00:37:05          69.23          53.07   \n",
       "\n",
       "   Temperature  Relative_Humidity  \n",
       "0         22.2               56.0  \n",
       "1          NaN                NaN  \n",
       "2         28.1               63.0  \n",
       "3         21.6               82.0  \n",
       "4         22.7               80.0  "
      ]
     },
     "execution_count": 4,
     "metadata": {},
     "output_type": "execute_result"
    }
   ],
   "source": [
    "test_data.head()"
   ]
  },
  {
   "cell_type": "code",
   "execution_count": 5,
   "id": "cc9cb335",
   "metadata": {},
   "outputs": [
    {
     "data": {
      "image/png": "[encoded data removed]",
      "text/plain": [
       "<Figure size 432x288 with 1 Axes>"
      ]
     },
     "metadata": {
      "needs_background": "light"
     },
     "output_type": "display_data"
    }
   ],
   "source": [
    "num_cols = [\"Sensor1_PM2.5\", \"Sensor2_PM2.5\", \"Temperature\", \"Relative_Humidity\"]\n",
    "sns.boxplot(x = train_data[\"Sensor1_PM2.5\"])\n",
    "plt.show()"
   ]
  },
  {
   "cell_type": "code",
   "execution_count": 6,
   "id": "a0a9370e",
   "metadata": {},
   "outputs": [
    {
     "data": {
      "image/png": "[encoded data removed]",
      "text/plain": [
       "<Figure size 432x288 with 1 Axes>"
      ]
     },
     "metadata": {
      "needs_background": "light"
     },
     "output_type": "display_data"
    }
   ],
   "source": [
    "num_cols = [\"Sensor1_PM2.5\", \"Sensor2_PM2.5\", \"Temperature\", \"Relative_Humidity\"]\n",
    "sns.kdeplot(x = train_data[\"Sensor1_PM2.5\"], shade = True)\n",
    "plt.show()"
   ]
  },
  {
   "cell_type": "code",
   "execution_count": 7,
   "id": "a3847502",
   "metadata": {},
   "outputs": [
    {
     "data": {
      "image/png": "[encoded data removed]",
      "text/plain": [
       "<Figure size 432x288 with 1 Axes>"
      ]
     },
     "metadata": {
      "needs_background": "light"
     },
     "output_type": "display_data"
    }
   ],
   "source": [
    "sns.boxplot(x = train_data[\"Sensor2_PM2.5\"])\n",
    "plt.show()"
   ]
  },
  {
   "cell_type": "code",
   "execution_count": 8,
   "id": "7aa9b39e",
   "metadata": {},
   "outputs": [
    {
     "data": {
      "image/png": "[encoded data removed]",
      "text/plain": [
       "<Figure size 432x288 with 1 Axes>"
      ]
     },
     "metadata": {
      "needs_background": "light"
     },
     "output_type": "display_data"
    }
   ],
   "source": [
    "sns.kdeplot(x = train_data[\"Sensor2_PM2.5\"], shade = True)\n",
    "plt.show()"
   ]
  },
  {
   "cell_type": "code",
   "execution_count": 9,
   "id": "b7cb2810",
   "metadata": {},
   "outputs": [
    {
     "data": {
      "image/png": "[encoded data removed]",
      "text/plain": [
       "<Figure size 432x288 with 1 Axes>"
      ]
     },
     "metadata": {
      "needs_background": "light"
     },
     "output_type": "display_data"
    }
   ],
   "source": [
    "sns.boxplot(x = train_data[\"Temperature\"])\n",
    "plt.show()"
   ]
  },
  {
   "cell_type": "code",
   "execution_count": 10,
   "id": "ce57996e",
   "metadata": {},
   "outputs": [
    {
     "data": {
      "image/png": "[encoded data removed]",
      "text/plain": [
       "<Figure size 432x288 with 1 Axes>"
      ]
     },
     "metadata": {
      "needs_background": "light"
     },
     "output_type": "display_data"
    }
   ],
   "source": [
    "sns.kdeplot(x = train_data[\"Temperature\"], shade = True)\n",
    "plt.show()"
   ]
  },
  {
   "cell_type": "code",
   "execution_count": 11,
   "id": "ea9d85c8",
   "metadata": {},
   "outputs": [
    {
     "data": {
      "image/png": "[encoded data removed]",
      "text/plain": [
       "<Figure size 432x288 with 1 Axes>"
      ]
     },
     "metadata": {
      "needs_background": "light"
     },
     "output_type": "display_data"
    }
   ],
   "source": [
    "sns.boxplot(x = train_data[\"Relative_Humidity\"])\n",
    "plt.show()"
   ]
  },
  {
   "cell_type": "code",
   "execution_count": 12,
   "id": "01f35924",
   "metadata": {},
   "outputs": [
    {
     "data": {
      "image/png": "[encoded data removed]",
      "text/plain": [
       "<Figure size 432x288 with 1 Axes>"
      ]
     },
     "metadata": {
      "needs_background": "light"
     },
     "output_type": "display_data"
    }
   ],
   "source": [
    "sns.kdeplot(x = train_data[\"Relative_Humidity\"], shade = True)\n",
    "plt.show()"
   ]
  },
  {
   "cell_type": "code",
   "execution_count": 13,
   "id": "fc3c8e46",
   "metadata": {},
   "outputs": [
    {
     "data": {
      "text/html": [
       "<div>\n",
       "<style scoped>\n",
       "    .dataframe tbody tr th:only-of-type {\n",
       "        vertical-align: middle;\n",
       "    }\n",
       "\n",
       "    .dataframe tbody tr th {\n",
       "        vertical-align: top;\n",
       "    }\n",
       "\n",
       "    .dataframe thead th {\n",
       "        text-align: right;\n",
       "    }\n",
       "</style>\n",
       "<table border=\"1\" class=\"dataframe\">\n",
       "  <thead>\n",
       "    <tr style=\"text-align: right;\">\n",
       "      <th></th>\n",
       "      <th>ID</th>\n",
       "      <th>Offset_fault</th>\n",
       "    </tr>\n",
       "  </thead>\n",
       "  <tbody>\n",
       "    <tr>\n",
       "      <th>0</th>\n",
       "      <td>ID_STL3V9B2OU12</td>\n",
       "      <td>0</td>\n",
       "    </tr>\n",
       "    <tr>\n",
       "      <th>1</th>\n",
       "      <td>ID_U2EKAY4SGA94</td>\n",
       "      <td>0</td>\n",
       "    </tr>\n",
       "    <tr>\n",
       "      <th>2</th>\n",
       "      <td>ID_UJFLEWQR0U4N</td>\n",
       "      <td>0</td>\n",
       "    </tr>\n",
       "    <tr>\n",
       "      <th>3</th>\n",
       "      <td>ID_S2C2GPGA4R5I</td>\n",
       "      <td>0</td>\n",
       "    </tr>\n",
       "    <tr>\n",
       "      <th>4</th>\n",
       "      <td>ID_5V2C2ZL221H8</td>\n",
       "      <td>0</td>\n",
       "    </tr>\n",
       "  </tbody>\n",
       "</table>\n",
       "</div>"
      ],
      "text/plain": [
       "                ID  Offset_fault\n",
       "0  ID_STL3V9B2OU12             0\n",
       "1  ID_U2EKAY4SGA94             0\n",
       "2  ID_UJFLEWQR0U4N             0\n",
       "3  ID_S2C2GPGA4R5I             0\n",
       "4  ID_5V2C2ZL221H8             0"
      ]
     },
     "execution_count": 13,
     "metadata": {},
     "output_type": "execute_result"
    }
   ],
   "source": [
    "samplesubmission.head()"
   ]
  },
  {
   "cell_type": "code",
   "execution_count": 14,
   "id": "ae9743cf",
   "metadata": {},
   "outputs": [
    {
     "name": "stdout",
     "output_type": "stream",
     "text": [
      "train_data shape: (297177, 7)\n",
      "test_data shape: (127361, 6)\n",
      "samplesubmission shape: (127361, 2)\n"
     ]
    }
   ],
   "source": [
    "print(\"train_data shape: \" + str(train_data.shape))\n",
    "print(\"test_data shape: \" + str(test_data.shape))\n",
    "print(\"samplesubmission shape: \" + str(samplesubmission.shape))"
   ]
  },
  {
   "cell_type": "code",
   "execution_count": 15,
   "id": "f0c89085",
   "metadata": {},
   "outputs": [
    {
     "name": "stderr",
     "output_type": "stream",
     "text": [
      "C:\\Users\\ROBERT~1\\AppData\\Local\\Temp/ipykernel_4384/2742851199.py:1: FutureWarning: Treating datetime data as categorical rather than numeric in `.describe` is deprecated and will be removed in a future version of pandas. Specify `datetime_is_numeric=True` to silence this warning and adopt the future behavior now.\n",
      "  train_data.describe(include = \"all\")\n"
     ]
    },
    {
     "data": {
      "text/html": [
       "<div>\n",
       "<style scoped>\n",
       "    .dataframe tbody tr th:only-of-type {\n",
       "        vertical-align: middle;\n",
       "    }\n",
       "\n",
       "    .dataframe tbody tr th {\n",
       "        vertical-align: top;\n",
       "    }\n",
       "\n",
       "    .dataframe thead th {\n",
       "        text-align: right;\n",
       "    }\n",
       "</style>\n",
       "<table border=\"1\" class=\"dataframe\">\n",
       "  <thead>\n",
       "    <tr style=\"text-align: right;\">\n",
       "      <th></th>\n",
       "      <th>ID</th>\n",
       "      <th>Datetime</th>\n",
       "      <th>Sensor1_PM2.5</th>\n",
       "      <th>Sensor2_PM2.5</th>\n",
       "      <th>Temperature</th>\n",
       "      <th>Relative_Humidity</th>\n",
       "      <th>Offset_fault</th>\n",
       "    </tr>\n",
       "  </thead>\n",
       "  <tbody>\n",
       "    <tr>\n",
       "      <th>count</th>\n",
       "      <td>297177</td>\n",
       "      <td>297177</td>\n",
       "      <td>293563.000000</td>\n",
       "      <td>293563.000000</td>\n",
       "      <td>293628.000000</td>\n",
       "      <td>293628.000000</td>\n",
       "      <td>297177.000000</td>\n",
       "    </tr>\n",
       "    <tr>\n",
       "      <th>unique</th>\n",
       "      <td>297177</td>\n",
       "      <td>293751</td>\n",
       "      <td>NaN</td>\n",
       "      <td>NaN</td>\n",
       "      <td>NaN</td>\n",
       "      <td>NaN</td>\n",
       "      <td>NaN</td>\n",
       "    </tr>\n",
       "    <tr>\n",
       "      <th>top</th>\n",
       "      <td>ID_QF0ZTQJ2SF5Q</td>\n",
       "      <td>2021-11-26 17:23:00</td>\n",
       "      <td>NaN</td>\n",
       "      <td>NaN</td>\n",
       "      <td>NaN</td>\n",
       "      <td>NaN</td>\n",
       "      <td>NaN</td>\n",
       "    </tr>\n",
       "    <tr>\n",
       "      <th>freq</th>\n",
       "      <td>1</td>\n",
       "      <td>3</td>\n",
       "      <td>NaN</td>\n",
       "      <td>NaN</td>\n",
       "      <td>NaN</td>\n",
       "      <td>NaN</td>\n",
       "      <td>NaN</td>\n",
       "    </tr>\n",
       "    <tr>\n",
       "      <th>first</th>\n",
       "      <td>NaN</td>\n",
       "      <td>2021-10-15 16:00:31</td>\n",
       "      <td>NaN</td>\n",
       "      <td>NaN</td>\n",
       "      <td>NaN</td>\n",
       "      <td>NaN</td>\n",
       "      <td>NaN</td>\n",
       "    </tr>\n",
       "    <tr>\n",
       "      <th>last</th>\n",
       "      <td>NaN</td>\n",
       "      <td>2022-01-21 07:34:57</td>\n",
       "      <td>NaN</td>\n",
       "      <td>NaN</td>\n",
       "      <td>NaN</td>\n",
       "      <td>NaN</td>\n",
       "      <td>NaN</td>\n",
       "    </tr>\n",
       "    <tr>\n",
       "      <th>mean</th>\n",
       "      <td>NaN</td>\n",
       "      <td>NaN</td>\n",
       "      <td>40.751195</td>\n",
       "      <td>38.183018</td>\n",
       "      <td>23.316554</td>\n",
       "      <td>78.653623</td>\n",
       "      <td>0.371072</td>\n",
       "    </tr>\n",
       "    <tr>\n",
       "      <th>std</th>\n",
       "      <td>NaN</td>\n",
       "      <td>NaN</td>\n",
       "      <td>28.526182</td>\n",
       "      <td>28.647761</td>\n",
       "      <td>3.836971</td>\n",
       "      <td>14.772725</td>\n",
       "      <td>0.483092</td>\n",
       "    </tr>\n",
       "    <tr>\n",
       "      <th>min</th>\n",
       "      <td>NaN</td>\n",
       "      <td>NaN</td>\n",
       "      <td>-9.450000</td>\n",
       "      <td>-9.700000</td>\n",
       "      <td>16.700000</td>\n",
       "      <td>27.000000</td>\n",
       "      <td>0.000000</td>\n",
       "    </tr>\n",
       "    <tr>\n",
       "      <th>25%</th>\n",
       "      <td>NaN</td>\n",
       "      <td>NaN</td>\n",
       "      <td>22.430000</td>\n",
       "      <td>19.520000</td>\n",
       "      <td>20.400000</td>\n",
       "      <td>68.000000</td>\n",
       "      <td>0.000000</td>\n",
       "    </tr>\n",
       "    <tr>\n",
       "      <th>50%</th>\n",
       "      <td>NaN</td>\n",
       "      <td>NaN</td>\n",
       "      <td>36.470000</td>\n",
       "      <td>33.720000</td>\n",
       "      <td>21.900000</td>\n",
       "      <td>84.000000</td>\n",
       "      <td>0.000000</td>\n",
       "    </tr>\n",
       "    <tr>\n",
       "      <th>75%</th>\n",
       "      <td>NaN</td>\n",
       "      <td>NaN</td>\n",
       "      <td>49.420000</td>\n",
       "      <td>47.570000</td>\n",
       "      <td>26.300000</td>\n",
       "      <td>91.000000</td>\n",
       "      <td>1.000000</td>\n",
       "    </tr>\n",
       "    <tr>\n",
       "      <th>max</th>\n",
       "      <td>NaN</td>\n",
       "      <td>NaN</td>\n",
       "      <td>997.960000</td>\n",
       "      <td>997.260000</td>\n",
       "      <td>34.900000</td>\n",
       "      <td>99.000000</td>\n",
       "      <td>1.000000</td>\n",
       "    </tr>\n",
       "  </tbody>\n",
       "</table>\n",
       "</div>"
      ],
      "text/plain": [
       "                     ID             Datetime  Sensor1_PM2.5  Sensor2_PM2.5  \\\n",
       "count            297177               297177  293563.000000  293563.000000   \n",
       "unique           297177               293751            NaN            NaN   \n",
       "top     ID_QF0ZTQJ2SF5Q  2021-11-26 17:23:00            NaN            NaN   \n",
       "freq                  1                    3            NaN            NaN   \n",
       "first               NaN  2021-10-15 16:00:31            NaN            NaN   \n",
       "last                NaN  2022-01-21 07:34:57            NaN            NaN   \n",
       "mean                NaN                  NaN      40.751195      38.183018   \n",
       "std                 NaN                  NaN      28.526182      28.647761   \n",
       "min                 NaN                  NaN      -9.450000      -9.700000   \n",
       "25%                 NaN                  NaN      22.430000      19.520000   \n",
       "50%                 NaN                  NaN      36.470000      33.720000   \n",
       "75%                 NaN                  NaN      49.420000      47.570000   \n",
       "max                 NaN                  NaN     997.960000     997.260000   \n",
       "\n",
       "          Temperature  Relative_Humidity   Offset_fault  \n",
       "count   293628.000000      293628.000000  297177.000000  \n",
       "unique            NaN                NaN            NaN  \n",
       "top               NaN                NaN            NaN  \n",
       "freq              NaN                NaN            NaN  \n",
       "first             NaN                NaN            NaN  \n",
       "last              NaN                NaN            NaN  \n",
       "mean        23.316554          78.653623       0.371072  \n",
       "std          3.836971          14.772725       0.483092  \n",
       "min         16.700000          27.000000       0.000000  \n",
       "25%         20.400000          68.000000       0.000000  \n",
       "50%         21.900000          84.000000       0.000000  \n",
       "75%         26.300000          91.000000       1.000000  \n",
       "max         34.900000          99.000000       1.000000  "
      ]
     },
     "execution_count": 15,
     "metadata": {},
     "output_type": "execute_result"
    }
   ],
   "source": [
    "train_data.describe(include = \"all\")"
   ]
  },
  {
   "cell_type": "code",
   "execution_count": 16,
   "id": "a6f76092",
   "metadata": {},
   "outputs": [
    {
     "data": {
      "text/plain": [
       "(True, True)"
      ]
     },
     "execution_count": 16,
     "metadata": {},
     "output_type": "execute_result"
    }
   ],
   "source": [
    "train_data.isnull().sum().any(), test_data.isnull().sum().any()"
   ]
  },
  {
   "cell_type": "code",
   "execution_count": 17,
   "id": "70c0ec2a",
   "metadata": {},
   "outputs": [
    {
     "data": {
      "text/html": [
       "<div>\n",
       "<style scoped>\n",
       "    .dataframe tbody tr th:only-of-type {\n",
       "        vertical-align: middle;\n",
       "    }\n",
       "\n",
       "    .dataframe tbody tr th {\n",
       "        vertical-align: top;\n",
       "    }\n",
       "\n",
       "    .dataframe thead th {\n",
       "        text-align: right;\n",
       "    }\n",
       "</style>\n",
       "<table border=\"1\" class=\"dataframe\">\n",
       "  <thead>\n",
       "    <tr style=\"text-align: right;\">\n",
       "      <th></th>\n",
       "      <th>ID</th>\n",
       "      <th>Datetime</th>\n",
       "      <th>Sensor1_PM2.5</th>\n",
       "      <th>Sensor2_PM2.5</th>\n",
       "      <th>Temperature</th>\n",
       "      <th>Relative_Humidity</th>\n",
       "      <th>Offset_fault</th>\n",
       "    </tr>\n",
       "  </thead>\n",
       "  <tbody>\n",
       "    <tr>\n",
       "      <th>0</th>\n",
       "      <td>ID_QF0ZTQJ2SF5Q</td>\n",
       "      <td>2021-11-03 04:06:31</td>\n",
       "      <td>52.58</td>\n",
       "      <td>49.52</td>\n",
       "      <td>17.4</td>\n",
       "      <td>96.0</td>\n",
       "      <td>0</td>\n",
       "    </tr>\n",
       "    <tr>\n",
       "      <th>1</th>\n",
       "      <td>ID_4GTK689CNX5S</td>\n",
       "      <td>2021-11-08 18:43:23</td>\n",
       "      <td>35.25</td>\n",
       "      <td>33.40</td>\n",
       "      <td>25.0</td>\n",
       "      <td>75.0</td>\n",
       "      <td>0</td>\n",
       "    </tr>\n",
       "    <tr>\n",
       "      <th>2</th>\n",
       "      <td>ID_DL7VVKW9U7XQ</td>\n",
       "      <td>2021-11-07 09:50:33</td>\n",
       "      <td>19.18</td>\n",
       "      <td>23.50</td>\n",
       "      <td>24.9</td>\n",
       "      <td>75.0</td>\n",
       "      <td>0</td>\n",
       "    </tr>\n",
       "    <tr>\n",
       "      <th>3</th>\n",
       "      <td>ID_6XQOMBXM2DG3</td>\n",
       "      <td>2022-01-01 18:55:15</td>\n",
       "      <td>19.40</td>\n",
       "      <td>15.48</td>\n",
       "      <td>24.9</td>\n",
       "      <td>70.0</td>\n",
       "      <td>0</td>\n",
       "    </tr>\n",
       "    <tr>\n",
       "      <th>4</th>\n",
       "      <td>ID_UQZW9ISJY9QE</td>\n",
       "      <td>2021-11-05 22:23:48</td>\n",
       "      <td>38.30</td>\n",
       "      <td>34.77</td>\n",
       "      <td>20.9</td>\n",
       "      <td>89.0</td>\n",
       "      <td>0</td>\n",
       "    </tr>\n",
       "    <tr>\n",
       "      <th>...</th>\n",
       "      <td>...</td>\n",
       "      <td>...</td>\n",
       "      <td>...</td>\n",
       "      <td>...</td>\n",
       "      <td>...</td>\n",
       "      <td>...</td>\n",
       "      <td>...</td>\n",
       "    </tr>\n",
       "    <tr>\n",
       "      <th>297172</th>\n",
       "      <td>ID_AQFTZIKVX2QL</td>\n",
       "      <td>2021-11-19 12:32:00</td>\n",
       "      <td>36.40</td>\n",
       "      <td>37.77</td>\n",
       "      <td>28.6</td>\n",
       "      <td>62.0</td>\n",
       "      <td>0</td>\n",
       "    </tr>\n",
       "    <tr>\n",
       "      <th>297173</th>\n",
       "      <td>ID_2X0AJPWOMJNA</td>\n",
       "      <td>2021-11-22 01:22:54</td>\n",
       "      <td>50.12</td>\n",
       "      <td>40.63</td>\n",
       "      <td>21.6</td>\n",
       "      <td>86.0</td>\n",
       "      <td>1</td>\n",
       "    </tr>\n",
       "    <tr>\n",
       "      <th>297174</th>\n",
       "      <td>ID_0OAQMV7USTI4</td>\n",
       "      <td>2021-11-05 01:27:31</td>\n",
       "      <td>53.68</td>\n",
       "      <td>45.23</td>\n",
       "      <td>20.2</td>\n",
       "      <td>94.0</td>\n",
       "      <td>1</td>\n",
       "    </tr>\n",
       "    <tr>\n",
       "      <th>297175</th>\n",
       "      <td>ID_Y8FDAO06VXGJ</td>\n",
       "      <td>2021-11-23 22:09:30</td>\n",
       "      <td>96.45</td>\n",
       "      <td>114.67</td>\n",
       "      <td>20.6</td>\n",
       "      <td>93.0</td>\n",
       "      <td>0</td>\n",
       "    </tr>\n",
       "    <tr>\n",
       "      <th>297176</th>\n",
       "      <td>ID_3XEXH72VWK4J</td>\n",
       "      <td>2021-11-23 06:33:04</td>\n",
       "      <td>44.27</td>\n",
       "      <td>36.77</td>\n",
       "      <td>17.3</td>\n",
       "      <td>95.0</td>\n",
       "      <td>1</td>\n",
       "    </tr>\n",
       "  </tbody>\n",
       "</table>\n",
       "<p>297177 rows × 7 columns</p>\n",
       "</div>"
      ],
      "text/plain": [
       "                     ID            Datetime  Sensor1_PM2.5  Sensor2_PM2.5  \\\n",
       "0       ID_QF0ZTQJ2SF5Q 2021-11-03 04:06:31          52.58          49.52   \n",
       "1       ID_4GTK689CNX5S 2021-11-08 18:43:23          35.25          33.40   \n",
       "2       ID_DL7VVKW9U7XQ 2021-11-07 09:50:33          19.18          23.50   \n",
       "3       ID_6XQOMBXM2DG3 2022-01-01 18:55:15          19.40          15.48   \n",
       "4       ID_UQZW9ISJY9QE 2021-11-05 22:23:48          38.30          34.77   \n",
       "...                 ...                 ...            ...            ...   \n",
       "297172  ID_AQFTZIKVX2QL 2021-11-19 12:32:00          36.40          37.77   \n",
       "297173  ID_2X0AJPWOMJNA 2021-11-22 01:22:54          50.12          40.63   \n",
       "297174  ID_0OAQMV7USTI4 2021-11-05 01:27:31          53.68          45.23   \n",
       "297175  ID_Y8FDAO06VXGJ 2021-11-23 22:09:30          96.45         114.67   \n",
       "297176  ID_3XEXH72VWK4J 2021-11-23 06:33:04          44.27          36.77   \n",
       "\n",
       "        Temperature  Relative_Humidity  Offset_fault  \n",
       "0              17.4               96.0             0  \n",
       "1              25.0               75.0             0  \n",
       "2              24.9               75.0             0  \n",
       "3              24.9               70.0             0  \n",
       "4              20.9               89.0             0  \n",
       "...             ...                ...           ...  \n",
       "297172         28.6               62.0             0  \n",
       "297173         21.6               86.0             1  \n",
       "297174         20.2               94.0             1  \n",
       "297175         20.6               93.0             0  \n",
       "297176         17.3               95.0             1  \n",
       "\n",
       "[297177 rows x 7 columns]"
      ]
     },
     "execution_count": 17,
     "metadata": {},
     "output_type": "execute_result"
    }
   ],
   "source": [
    "train_data.fillna(0)"
   ]
  },
  {
   "cell_type": "code",
   "execution_count": 18,
   "id": "e4561f99",
   "metadata": {},
   "outputs": [
    {
     "data": {
      "text/plain": [
       "(False, False)"
      ]
     },
     "execution_count": 18,
     "metadata": {},
     "output_type": "execute_result"
    }
   ],
   "source": [
    "train_data.duplicated().any(), test_data.duplicated().any()"
   ]
  },
  {
   "cell_type": "code",
   "execution_count": 19,
   "id": "028ada61",
   "metadata": {},
   "outputs": [
    {
     "data": {
      "text/plain": [
       "Index(['ID', 'Datetime', 'Sensor1_PM2.5', 'Sensor2_PM2.5', 'Temperature',\n",
       "       'Relative_Humidity', 'Offset_fault'],\n",
       "      dtype='object')"
      ]
     },
     "execution_count": 19,
     "metadata": {},
     "output_type": "execute_result"
    }
   ],
   "source": [
    "train_data.columns"
   ]
  },
  {
   "cell_type": "code",
   "execution_count": 20,
   "id": "7d4a8076",
   "metadata": {},
   "outputs": [
    {
     "data": {
      "text/html": [
       "<div>\n",
       "<style scoped>\n",
       "    .dataframe tbody tr th:only-of-type {\n",
       "        vertical-align: middle;\n",
       "    }\n",
       "\n",
       "    .dataframe tbody tr th {\n",
       "        vertical-align: top;\n",
       "    }\n",
       "\n",
       "    .dataframe thead th {\n",
       "        text-align: right;\n",
       "    }\n",
       "</style>\n",
       "<table border=\"1\" class=\"dataframe\">\n",
       "  <thead>\n",
       "    <tr style=\"text-align: right;\">\n",
       "      <th></th>\n",
       "      <th>Datetime</th>\n",
       "      <th>Datetime_day</th>\n",
       "      <th>Datetime_month</th>\n",
       "      <th>Datetime_year</th>\n",
       "      <th>Datetime_hour</th>\n",
       "    </tr>\n",
       "  </thead>\n",
       "  <tbody>\n",
       "    <tr>\n",
       "      <th>0</th>\n",
       "      <td>2021-11-03 04:06:31</td>\n",
       "      <td>3</td>\n",
       "      <td>11</td>\n",
       "      <td>2021</td>\n",
       "      <td>4</td>\n",
       "    </tr>\n",
       "    <tr>\n",
       "      <th>1</th>\n",
       "      <td>2021-11-08 18:43:23</td>\n",
       "      <td>8</td>\n",
       "      <td>11</td>\n",
       "      <td>2021</td>\n",
       "      <td>18</td>\n",
       "    </tr>\n",
       "    <tr>\n",
       "      <th>2</th>\n",
       "      <td>2021-11-07 09:50:33</td>\n",
       "      <td>7</td>\n",
       "      <td>11</td>\n",
       "      <td>2021</td>\n",
       "      <td>9</td>\n",
       "    </tr>\n",
       "    <tr>\n",
       "      <th>3</th>\n",
       "      <td>2022-01-01 18:55:15</td>\n",
       "      <td>1</td>\n",
       "      <td>1</td>\n",
       "      <td>2022</td>\n",
       "      <td>18</td>\n",
       "    </tr>\n",
       "    <tr>\n",
       "      <th>4</th>\n",
       "      <td>2021-11-05 22:23:48</td>\n",
       "      <td>5</td>\n",
       "      <td>11</td>\n",
       "      <td>2021</td>\n",
       "      <td>22</td>\n",
       "    </tr>\n",
       "  </tbody>\n",
       "</table>\n",
       "</div>"
      ],
      "text/plain": [
       "             Datetime  Datetime_day  Datetime_month  Datetime_year  \\\n",
       "0 2021-11-03 04:06:31             3              11           2021   \n",
       "1 2021-11-08 18:43:23             8              11           2021   \n",
       "2 2021-11-07 09:50:33             7              11           2021   \n",
       "3 2022-01-01 18:55:15             1               1           2022   \n",
       "4 2021-11-05 22:23:48             5              11           2021   \n",
       "\n",
       "   Datetime_hour  \n",
       "0              4  \n",
       "1             18  \n",
       "2              9  \n",
       "3             18  \n",
       "4             22  "
      ]
     },
     "execution_count": 20,
     "metadata": {},
     "output_type": "execute_result"
    }
   ],
   "source": [
    "train_data['Datetime_day'] = train_data.Datetime.dt.day\n",
    "train_data['Datetime_month'] = train_data.Datetime.dt.month\n",
    "train_data['Datetime_year'] = train_data.Datetime.dt.year\n",
    "train_data['Datetime_hour'] = train_data.Datetime.dt.hour\n",
    "train_data[['Datetime', 'Datetime_day', 'Datetime_month', 'Datetime_year', 'Datetime_hour']].head()"
   ]
  },
  {
   "cell_type": "code",
   "execution_count": 37,
   "id": "c7e2b463",
   "metadata": {},
   "outputs": [
    {
     "data": {
      "text/plain": [
       "<AxesSubplot:>"
      ]
     },
     "execution_count": 37,
     "metadata": {},
     "output_type": "execute_result"
    },
    {
     "data": {
      "image/png": "[encoded data removed]",
      "text/plain": [
       "<Figure size 1080x576 with 2 Axes>"
      ]
     },
     "metadata": {
      "needs_background": "light"
     },
     "output_type": "display_data"
    }
   ],
   "source": [
    "plt.figure(figsize = (15, 8))\n",
    "sns.heatmap(train_data.corr())"
   ]
  },
  {
   "cell_type": "code",
   "execution_count": 21,
   "id": "97ae1aaa",
   "metadata": {},
   "outputs": [
    {
     "data": {
      "text/html": [
       "<div>\n",
       "<style scoped>\n",
       "    .dataframe tbody tr th:only-of-type {\n",
       "        vertical-align: middle;\n",
       "    }\n",
       "\n",
       "    .dataframe tbody tr th {\n",
       "        vertical-align: top;\n",
       "    }\n",
       "\n",
       "    .dataframe thead th {\n",
       "        text-align: right;\n",
       "    }\n",
       "</style>\n",
       "<table border=\"1\" class=\"dataframe\">\n",
       "  <thead>\n",
       "    <tr style=\"text-align: right;\">\n",
       "      <th></th>\n",
       "      <th>Datetime</th>\n",
       "      <th>Datetime_day</th>\n",
       "      <th>Datetime_month</th>\n",
       "      <th>Datetime_year</th>\n",
       "      <th>Datetime_hour</th>\n",
       "    </tr>\n",
       "  </thead>\n",
       "  <tbody>\n",
       "    <tr>\n",
       "      <th>0</th>\n",
       "      <td>2022-01-28 08:49:41</td>\n",
       "      <td>28</td>\n",
       "      <td>1</td>\n",
       "      <td>2022</td>\n",
       "      <td>8</td>\n",
       "    </tr>\n",
       "    <tr>\n",
       "      <th>1</th>\n",
       "      <td>2022-02-16 21:30:17</td>\n",
       "      <td>16</td>\n",
       "      <td>2</td>\n",
       "      <td>2022</td>\n",
       "      <td>21</td>\n",
       "    </tr>\n",
       "    <tr>\n",
       "      <th>2</th>\n",
       "      <td>2022-01-24 17:57:18</td>\n",
       "      <td>24</td>\n",
       "      <td>1</td>\n",
       "      <td>2022</td>\n",
       "      <td>17</td>\n",
       "    </tr>\n",
       "    <tr>\n",
       "      <th>3</th>\n",
       "      <td>2022-01-31 07:07:09</td>\n",
       "      <td>31</td>\n",
       "      <td>1</td>\n",
       "      <td>2022</td>\n",
       "      <td>7</td>\n",
       "    </tr>\n",
       "    <tr>\n",
       "      <th>4</th>\n",
       "      <td>2022-01-31 00:37:05</td>\n",
       "      <td>31</td>\n",
       "      <td>1</td>\n",
       "      <td>2022</td>\n",
       "      <td>0</td>\n",
       "    </tr>\n",
       "  </tbody>\n",
       "</table>\n",
       "</div>"
      ],
      "text/plain": [
       "             Datetime  Datetime_day  Datetime_month  Datetime_year  \\\n",
       "0 2022-01-28 08:49:41            28               1           2022   \n",
       "1 2022-02-16 21:30:17            16               2           2022   \n",
       "2 2022-01-24 17:57:18            24               1           2022   \n",
       "3 2022-01-31 07:07:09            31               1           2022   \n",
       "4 2022-01-31 00:37:05            31               1           2022   \n",
       "\n",
       "   Datetime_hour  \n",
       "0              8  \n",
       "1             21  \n",
       "2             17  \n",
       "3              7  \n",
       "4              0  "
      ]
     },
     "execution_count": 21,
     "metadata": {},
     "output_type": "execute_result"
    }
   ],
   "source": [
    "test_data['Datetime_day'] = test_data.Datetime.dt.day\n",
    "test_data['Datetime_month'] = test_data.Datetime.dt.month\n",
    "test_data['Datetime_year'] = test_data.Datetime.dt.year\n",
    "test_data['Datetime_hour'] = test_data.Datetime.dt.hour\n",
    "test_data[['Datetime', 'Datetime_day', 'Datetime_month', 'Datetime_year', 'Datetime_hour']].head()"
   ]
  },
  {
   "cell_type": "code",
   "execution_count": 35,
   "id": "d43953c5",
   "metadata": {},
   "outputs": [
    {
     "data": {
      "text/plain": [
       "<AxesSubplot:>"
      ]
     },
     "execution_count": 35,
     "metadata": {},
     "output_type": "execute_result"
    },
    {
     "data": {
      "image/png": "[encoded data removed]",
      "text/plain": [
       "<Figure size 1080x576 with 2 Axes>"
      ]
     },
     "metadata": {
      "needs_background": "light"
     },
     "output_type": "display_data"
    }
   ],
   "source": [
    "plt.figure(figsize = (15, 8))\n",
    "sns.heatmap(test_data.corr())"
   ]
  },
  {
   "cell_type": "code",
   "execution_count": 22,
   "id": "963214ff",
   "metadata": {},
   "outputs": [],
   "source": [
    "train_feats = [\"Sensor1_PM2.5\", \"Sensor2_PM2.5\", \"Temperature\", \"Relative_Humidity\", \"Datetime_day\", \"Datetime_month\", \"Datetime_year\", \"Datetime_hour\"]\n",
    "X = train_data[train_feats].fillna(0)\n",
    "y = train_data[\"Offset_fault\"]"
   ]
  },
  {
   "cell_type": "code",
   "execution_count": 23,
   "id": "2ee60c21",
   "metadata": {},
   "outputs": [
    {
     "data": {
      "text/plain": [
       "LogisticRegression(C=10.0, random_state=0, solver='liblinear')"
      ]
     },
     "execution_count": 23,
     "metadata": {},
     "output_type": "execute_result"
    }
   ],
   "source": [
    "X_train, X_test, y_train, y_test = train_test_split(X, y, test_size = 0.3, random_state = 0)\n",
    "logreg = LogisticRegression(solver = 'liblinear', C = 10.0, random_state = 0)\n",
    "logreg.fit(X_train, y_train)"
   ]
  },
  {
   "cell_type": "code",
   "execution_count": 24,
   "id": "062faf84",
   "metadata": {},
   "outputs": [],
   "source": [
    "p_pred = logreg.predict_proba(X_train)\n",
    "y_pred = logreg.predict(X_test)"
   ]
  },
  {
   "cell_type": "code",
   "execution_count": 25,
   "id": "0c3e6786",
   "metadata": {},
   "outputs": [
    {
     "name": "stdout",
     "output_type": "stream",
     "text": [
      "intercept: [-1.53375347e-05]\n",
      "coefficient[[ 6.91328643e-01 -8.44627771e-01 -5.65259421e-02  1.61929322e-02\n",
      "   1.76755462e-02 -5.52891526e-02  5.42191199e-04  1.68125947e-02]]\n"
     ]
    }
   ],
   "source": [
    "print(\"intercept: \" + str(logreg.intercept_))\n",
    "print(\"coefficient\" + str(logreg.coef_))"
   ]
  },
  {
   "cell_type": "code",
   "execution_count": 26,
   "id": "a907e255",
   "metadata": {},
   "outputs": [
    {
     "name": "stdout",
     "output_type": "stream",
     "text": [
      "(89154,)\n",
      "(89154, 8)\n",
      "(89154,)\n",
      "(208023, 8)\n",
      "(208023,)\n"
     ]
    }
   ],
   "source": [
    "print(y_test.shape)\n",
    "print(X_test.shape)\n",
    "print(y_pred.shape)\n",
    "print(X_train.shape)\n",
    "print(y_train.shape)"
   ]
  },
  {
   "cell_type": "code",
   "execution_count": 27,
   "id": "a0c4bb29",
   "metadata": {},
   "outputs": [
    {
     "data": {
      "text/plain": [
       "<AxesSubplot:xlabel='Sensor1_PM2.5', ylabel='Offset_fault'>"
      ]
     },
     "execution_count": 27,
     "metadata": {},
     "output_type": "execute_result"
    },
    {
     "data": {
      "image/png": "[encoded data removed]",
      "text/plain": [
       "<Figure size 432x288 with 1 Axes>"
      ]
     },
     "metadata": {
      "needs_background": "light"
     },
     "output_type": "display_data"
    }
   ],
   "source": [
    "sns.scatterplot(x = train_data[\"Sensor1_PM2.5\"], y = train_data[\"Offset_fault\"])"
   ]
  },
  {
   "cell_type": "code",
   "execution_count": 28,
   "id": "7f566dcc",
   "metadata": {},
   "outputs": [
    {
     "name": "stdout",
     "output_type": "stream",
     "text": [
      "[[50948  5018]\n",
      " [ 4412 28776]]\n"
     ]
    }
   ],
   "source": [
    "conf_matrix = confusion_matrix(y_test, y_pred)\n",
    "print(conf_matrix)"
   ]
  },
  {
   "cell_type": "code",
   "execution_count": 29,
   "id": "9ae66d86",
   "metadata": {},
   "outputs": [
    {
     "data": {
      "text/plain": [
       "Text(0.5, 15.0, 'Predicted label')"
      ]
     },
     "execution_count": 29,
     "metadata": {},
     "output_type": "execute_result"
    },
    {
     "data": {
      "image/png": "[encoded data removed]",
      "text/plain": [
       "<Figure size 432x288 with 2 Axes>"
      ]
     },
     "metadata": {
      "needs_background": "light"
     },
     "output_type": "display_data"
    }
   ],
   "source": [
    "sns.heatmap(pd.DataFrame(conf_matrix), annot = True)\n",
    "plt.title(\"Confusion matrix plot of y_test and y_pred\")\n",
    "plt.ylabel(\"Actual label\")\n",
    "plt.xlabel(\"Predicted label\")"
   ]
  },
  {
   "cell_type": "code",
   "execution_count": 31,
   "id": "cb615614",
   "metadata": {},
   "outputs": [
    {
     "name": "stdout",
     "output_type": "stream",
     "text": [
      "Report              precision    recall  f1-score   support\n",
      "\n",
      "           0       0.92      0.91      0.92     55966\n",
      "           1       0.85      0.87      0.86     33188\n",
      "\n",
      "    accuracy                           0.89     89154\n",
      "   macro avg       0.89      0.89      0.89     89154\n",
      "weighted avg       0.89      0.89      0.89     89154\n",
      "\n",
      "Accuracy: 0.8942279650941068\n",
      "Precision: 0.8515121027401313\n"
     ]
    }
   ],
   "source": [
    "from sklearn.metrics import classification_report\n",
    "report = classification_report(y_test, y_pred)\n",
    "print(\"Report\" + str(report))\n",
    "print(\"Accuracy: \" + str(accuracy_score(y_test, y_pred)))\n",
    "print(\"Precision: \" + str(precision_score(y_test, y_pred)))"
   ]
  },
  {
   "cell_type": "code",
   "execution_count": null,
   "id": "3e573b80",
   "metadata": {},
   "outputs": [],
   "source": []
  },
  {
   "cell_type": "code",
   "execution_count": null,
   "id": "51d199fb",
   "metadata": {},
   "outputs": [],
   "source": []
  }
 ],
 "metadata": {
  "kernelspec": {
   "display_name": "Python 3 (ipykernel)",
   "language": "python",
   "name": "python3"
  },
  "language_info": {
   "codemirror_mode": {
    "name": "ipython",
    "version": 3
   },
   "file_extension": ".py",
   "mimetype": "text/x-python",
   "name": "python",
   "nbconvert_exporter": "python",
   "pygments_lexer": "ipython3",
   "version": "3.9.7"
  }
 },
 "nbformat": 4,
 "nbformat_minor": 5
}
