{
 "cells": [
  {
   "cell_type": "code",
   "execution_count": 1,
   "id": "ffc519f9",
   "metadata": {},
   "outputs": [],
   "source": [
    "import numpy as np\n",
    "import pandas as pd\n",
    "import matplotlib.pyplot as plt\n",
    "import seaborn as sns\n",
    "from sklearn.linear_model import LogisticRegression\n",
    "from sklearn.model_selection import train_test_split\n",
    "from sklearn.metrics import accuracy_score, precision_score, confusion_matrix\n",
    "%matplotlib inline"
   ]
  },
  {
   "cell_type": "code",
   "execution_count": 2,
   "id": "4e330f7c",
   "metadata": {},
   "outputs": [
    {
     "data": {
      "text/html": [
       "<div>\n",
       "<style scoped>\n",
       "    .dataframe tbody tr th:only-of-type {\n",
       "        vertical-align: middle;\n",
       "    }\n",
       "\n",
       "    .dataframe tbody tr th {\n",
       "        vertical-align: top;\n",
       "    }\n",
       "\n",
       "    .dataframe thead th {\n",
       "        text-align: right;\n",
       "    }\n",
       "</style>\n",
       "<table border=\"1\" class=\"dataframe\">\n",
       "  <thead>\n",
       "    <tr style=\"text-align: right;\">\n",
       "      <th></th>\n",
       "      <th>ID</th>\n",
       "      <th>Datetime</th>\n",
       "      <th>Sensor1_PM2.5</th>\n",
       "      <th>Sensor2_PM2.5</th>\n",
       "      <th>Temperature</th>\n",
       "      <th>Relative_Humidity</th>\n",
       "      <th>Offset_fault</th>\n",
       "    </tr>\n",
       "  </thead>\n",
       "  <tbody>\n",
       "    <tr>\n",
       "      <th>0</th>\n",
       "      <td>ID_QF0ZTQJ2SF5Q</td>\n",
       "      <td>2021-11-03 04:06:31</td>\n",
       "      <td>52.58</td>\n",
       "      <td>49.52</td>\n",
       "      <td>17.4</td>\n",
       "      <td>96.0</td>\n",
       "      <td>0</td>\n",
       "    </tr>\n",
       "    <tr>\n",
       "      <th>1</th>\n",
       "      <td>ID_4GTK689CNX5S</td>\n",
       "      <td>2021-11-08 18:43:23</td>\n",
       "      <td>35.25</td>\n",
       "      <td>33.40</td>\n",
       "      <td>25.0</td>\n",
       "      <td>75.0</td>\n",
       "      <td>0</td>\n",
       "    </tr>\n",
       "    <tr>\n",
       "      <th>2</th>\n",
       "      <td>ID_DL7VVKW9U7XQ</td>\n",
       "      <td>2021-11-07 09:50:33</td>\n",
       "      <td>19.18</td>\n",
       "      <td>23.50</td>\n",
       "      <td>24.9</td>\n",
       "      <td>75.0</td>\n",
       "      <td>0</td>\n",
       "    </tr>\n",
       "    <tr>\n",
       "      <th>3</th>\n",
       "      <td>ID_6XQOMBXM2DG3</td>\n",
       "      <td>2022-01-01 18:55:15</td>\n",
       "      <td>19.40</td>\n",
       "      <td>15.48</td>\n",
       "      <td>24.9</td>\n",
       "      <td>70.0</td>\n",
       "      <td>0</td>\n",
       "    </tr>\n",
       "    <tr>\n",
       "      <th>4</th>\n",
       "      <td>ID_UQZW9ISJY9QE</td>\n",
       "      <td>2021-11-05 22:23:48</td>\n",
       "      <td>38.30</td>\n",
       "      <td>34.77</td>\n",
       "      <td>20.9</td>\n",
       "      <td>89.0</td>\n",
       "      <td>0</td>\n",
       "    </tr>\n",
       "  </tbody>\n",
       "</table>\n",
       "</div>"
      ],
      "text/plain": [
       "                ID            Datetime  Sensor1_PM2.5  Sensor2_PM2.5  \\\n",
       "0  ID_QF0ZTQJ2SF5Q 2021-11-03 04:06:31          52.58          49.52   \n",
       "1  ID_4GTK689CNX5S 2021-11-08 18:43:23          35.25          33.40   \n",
       "2  ID_DL7VVKW9U7XQ 2021-11-07 09:50:33          19.18          23.50   \n",
       "3  ID_6XQOMBXM2DG3 2022-01-01 18:55:15          19.40          15.48   \n",
       "4  ID_UQZW9ISJY9QE 2021-11-05 22:23:48          38.30          34.77   \n",
       "\n",
       "   Temperature  Relative_Humidity  Offset_fault  \n",
       "0         17.4               96.0             0  \n",
       "1         25.0               75.0             0  \n",
       "2         24.9               75.0             0  \n",
       "3         24.9               70.0             0  \n",
       "4         20.9               89.0             0  "
      ]
     },
     "execution_count": 2,
     "metadata": {},
     "output_type": "execute_result"
    }
   ],
   "source": [
    "train_data = pd.read_csv(\"train.csv\", parse_dates = [\"Datetime\"])\n",
    "test_data = pd.read_csv(\"test.csv\", parse_dates = [\"Datetime\"])\n",
    "samplesubmission = pd.read_csv(\"SampleSubmission.csv\")\n",
    "train_data.head()"
   ]
  },
  {
   "cell_type": "code",
   "execution_count": 3,
   "id": "837c7330",
   "metadata": {},
   "outputs": [
    {
     "data": {
      "text/html": [
       "<div>\n",
       "<style scoped>\n",
       "    .dataframe tbody tr th:only-of-type {\n",
       "        vertical-align: middle;\n",
       "    }\n",
       "\n",
       "    .dataframe tbody tr th {\n",
       "        vertical-align: top;\n",
       "    }\n",
       "\n",
       "    .dataframe thead th {\n",
       "        text-align: right;\n",
       "    }\n",
       "</style>\n",
       "<table border=\"1\" class=\"dataframe\">\n",
       "  <thead>\n",
       "    <tr style=\"text-align: right;\">\n",
       "      <th></th>\n",
       "      <th>ID</th>\n",
       "      <th>Datetime</th>\n",
       "      <th>Sensor1_PM2.5</th>\n",
       "      <th>Sensor2_PM2.5</th>\n",
       "      <th>Temperature</th>\n",
       "      <th>Relative_Humidity</th>\n",
       "    </tr>\n",
       "  </thead>\n",
       "  <tbody>\n",
       "    <tr>\n",
       "      <th>0</th>\n",
       "      <td>ID_STL3V9B2OU12</td>\n",
       "      <td>2022-01-28 08:49:41</td>\n",
       "      <td>90.75</td>\n",
       "      <td>114.78</td>\n",
       "      <td>22.2</td>\n",
       "      <td>56.0</td>\n",
       "    </tr>\n",
       "    <tr>\n",
       "      <th>1</th>\n",
       "      <td>ID_U2EKAY4SGA94</td>\n",
       "      <td>2022-02-16 21:30:17</td>\n",
       "      <td>56.03</td>\n",
       "      <td>52.18</td>\n",
       "      <td>NaN</td>\n",
       "      <td>NaN</td>\n",
       "    </tr>\n",
       "    <tr>\n",
       "      <th>2</th>\n",
       "      <td>ID_UJFLEWQR0U4N</td>\n",
       "      <td>2022-01-24 17:57:18</td>\n",
       "      <td>387.35</td>\n",
       "      <td>346.73</td>\n",
       "      <td>28.1</td>\n",
       "      <td>63.0</td>\n",
       "    </tr>\n",
       "    <tr>\n",
       "      <th>3</th>\n",
       "      <td>ID_S2C2GPGA4R5I</td>\n",
       "      <td>2022-01-31 07:07:09</td>\n",
       "      <td>63.17</td>\n",
       "      <td>83.85</td>\n",
       "      <td>21.6</td>\n",
       "      <td>82.0</td>\n",
       "    </tr>\n",
       "    <tr>\n",
       "      <th>4</th>\n",
       "      <td>ID_5V2C2ZL221H8</td>\n",
       "      <td>2022-01-31 00:37:05</td>\n",
       "      <td>69.23</td>\n",
       "      <td>53.07</td>\n",
       "      <td>22.7</td>\n",
       "      <td>80.0</td>\n",
       "    </tr>\n",
       "  </tbody>\n",
       "</table>\n",
       "</div>"
      ],
      "text/plain": [
       "                ID            Datetime  Sensor1_PM2.5  Sensor2_PM2.5  \\\n",
       "0  ID_STL3V9B2OU12 2022-01-28 08:49:41          90.75         114.78   \n",
       "1  ID_U2EKAY4SGA94 2022-02-16 21:30:17          56.03          52.18   \n",
       "2  ID_UJFLEWQR0U4N 2022-01-24 17:57:18         387.35         346.73   \n",
       "3  ID_S2C2GPGA4R5I 2022-01-31 07:07:09          63.17          83.85   \n",
       "4  ID_5V2C2ZL221H8 2022-01-31 00:37:05          69.23          53.07   \n",
       "\n",
       "   Temperature  Relative_Humidity  \n",
       "0         22.2               56.0  \n",
       "1          NaN                NaN  \n",
       "2         28.1               63.0  \n",
       "3         21.6               82.0  \n",
       "4         22.7               80.0  "
      ]
     },
     "execution_count": 3,
     "metadata": {},
     "output_type": "execute_result"
    }
   ],
   "source": [
    "test_data.head()"
   ]
  },
  {
   "cell_type": "code",
   "execution_count": null,
   "id": "cc9cb335",
   "metadata": {},
   "outputs": [],
   "source": [
    "num_cols = [\"Sensor1_PM2.5\", \"Sensor2_PM2.5\", \"Temperature\", \"Relative_Humidity\"]\n",
    "g = sns.pairplot(train_data[num_cols], kind = 'kde')\n",
    "g.map_lower(sns.kdeplot, levels=4, color=\".2\")\n",
    "plt.show()"
   ]
  },
  {
   "cell_type": "code",
   "execution_count": null,
   "id": "fc3c8e46",
   "metadata": {},
   "outputs": [],
   "source": [
    "samplesubmission.head()"
   ]
  },
  {
   "cell_type": "code",
   "execution_count": null,
   "id": "ae9743cf",
   "metadata": {},
   "outputs": [],
   "source": [
    "print(\"train_data shape: \" + str(train_data.shape))\n",
    "print(\"test_data shape: \" + str(test_data.shape))\n",
    "print(\"samplesubmission shape: \" + str(samplesubmission.shape))"
   ]
  },
  {
   "cell_type": "code",
   "execution_count": null,
   "id": "f0c89085",
   "metadata": {},
   "outputs": [],
   "source": [
    "train_data.describe(include = \"all\")"
   ]
  },
  {
   "cell_type": "code",
   "execution_count": null,
   "id": "a6f76092",
   "metadata": {},
   "outputs": [],
   "source": [
    "train_data.isnull().sum().any(), test_data.isnull().sum().any()"
   ]
  },
  {
   "cell_type": "code",
   "execution_count": null,
   "id": "70c0ec2a",
   "metadata": {},
   "outputs": [],
   "source": [
    "train_data.fillna(0)"
   ]
  },
  {
   "cell_type": "code",
   "execution_count": null,
   "id": "e4561f99",
   "metadata": {},
   "outputs": [],
   "source": [
    "train_data.duplicated().any(), test_data.duplicated().any()"
   ]
  },
  {
   "cell_type": "code",
   "execution_count": null,
   "id": "028ada61",
   "metadata": {},
   "outputs": [],
   "source": [
    "train_data.columns"
   ]
  },
  {
   "cell_type": "code",
   "execution_count": null,
   "id": "7d4a8076",
   "metadata": {},
   "outputs": [],
   "source": [
    "train_data['Datetime_day'] = train_data.Datetime.dt.day\n",
    "train_data['Datetime_month'] = train_data.Datetime.dt.month\n",
    "train_data['Datetime_year'] = train_data.Datetime.dt.year\n",
    "train_data['Datetime_hour'] = train_data.Datetime.dt.hour\n",
    "train_data[['Datetime', 'Datetime_day', 'Datetime_month', 'Datetime_year', 'Datetime_hour']].head()"
   ]
  },
  {
   "cell_type": "code",
   "execution_count": null,
   "id": "97ae1aaa",
   "metadata": {},
   "outputs": [],
   "source": [
    "test_data['Datetime_day'] = test_data.Datetime.dt.day\n",
    "test_data['Datetime_month'] = test_data.Datetime.dt.month\n",
    "test_data['Datetime_year'] = test_data.Datetime.dt.year\n",
    "test_data['Datetime_hour'] = test_data.Datetime.dt.hour\n",
    "test_data[['Datetime', 'Datetime_day', 'Datetime_month', 'Datetime_year', 'Datetime_hour']].head()"
   ]
  },
  {
   "cell_type": "code",
   "execution_count": null,
   "id": "963214ff",
   "metadata": {},
   "outputs": [],
   "source": [
    "train_feats = [\"Sensor1_PM2.5\", \"Sensor2_PM2.5\", \"Temperature\", \"Relative_Humidity\", \"Datetime_day\", \"Datetime_month\", \"Datetime_year\", \"Datetime_hour\"]\n",
    "X = train_data[train_feats].fillna(0)\n",
    "y = train_data[\"Offset_fault\"]"
   ]
  },
  {
   "cell_type": "code",
   "execution_count": null,
   "id": "2ee60c21",
   "metadata": {},
   "outputs": [],
   "source": [
    "X_train, X_test, y_train, y_test = train_test_split(X, y, test_size = 0.3, random_state = 0)\n",
    "logreg = LogisticRegression(solver = 'liblinear', C = 10.0, random_state = 0)\n",
    "logreg.fit(X_train, y_train)"
   ]
  },
  {
   "cell_type": "code",
   "execution_count": null,
   "id": "062faf84",
   "metadata": {},
   "outputs": [],
   "source": [
    "p_pred = logreg.predict_proba(X_train)\n",
    "y_pred = logreg.predict(X_test)"
   ]
  },
  {
   "cell_type": "code",
   "execution_count": null,
   "id": "0c3e6786",
   "metadata": {},
   "outputs": [],
   "source": [
    "print(\"intercept: \" + str(logreg.intercept_))\n",
    "print(\"coefficient\" + str(logreg.coef_))"
   ]
  },
  {
   "cell_type": "code",
   "execution_count": null,
   "id": "a907e255",
   "metadata": {},
   "outputs": [],
   "source": [
    "print(y_test.shape)\n",
    "print(X_test.shape)\n",
    "print(y_pred.shape)\n",
    "print(X_train.shape)\n",
    "print(y_train.shape)"
   ]
  },
  {
   "cell_type": "code",
   "execution_count": null,
   "id": "a0c4bb29",
   "metadata": {},
   "outputs": [],
   "source": [
    "sns.scatterplot(x = train_data[\"Sensor1_PM2.5\"], y = train_data[\"Offset_fault\"])"
   ]
  },
  {
   "cell_type": "code",
   "execution_count": null,
   "id": "7f566dcc",
   "metadata": {},
   "outputs": [],
   "source": [
    "conf_matrix = confusion_matrix(y_test, y_pred)\n",
    "print(conf_matrix)"
   ]
  },
  {
   "cell_type": "code",
   "execution_count": null,
   "id": "9ae66d86",
   "metadata": {},
   "outputs": [],
   "source": [
    "sns.heatmap(pd.DataFrame(conf_matrix), annot = True)\n",
    "plt.title(\"Confusion matrix plot of y_test and y_pred\")\n",
    "plt.ylabel(\"Actual label\")\n",
    "plt.xlabel(\"Predicted label\")"
   ]
  },
  {
   "cell_type": "code",
   "execution_count": null,
   "id": "cb615614",
   "metadata": {},
   "outputs": [],
   "source": [
    "from sklearn.metrics import classification_report\n",
    "report = classification_report(y_test, y_pred)\n",
    "print(\"Report\" + str(report))\n",
    "print(\"Accuracy: \" + str(accuracy_score(y_test, y_pred)))\n",
    "print(\"Precision: \" + str(precision_score(y_test, y_pred)))"
   ]
  },
  {
   "cell_type": "code",
   "execution_count": null,
   "id": "3e573b80",
   "metadata": {},
   "outputs": [],
   "source": []
  },
  {
   "cell_type": "code",
   "execution_count": null,
   "id": "51d199fb",
   "metadata": {},
   "outputs": [],
   "source": []
  }
 ],
 "metadata": {
  "kernelspec": {
   "display_name": "Python 3 (ipykernel)",
   "language": "python",
   "name": "python3"
  },
  "language_info": {
   "codemirror_mode": {
    "name": "ipython",
    "version": 3
   },
   "file_extension": ".py",
   "mimetype": "text/x-python",
   "name": "python",
   "nbconvert_exporter": "python",
   "pygments_lexer": "ipython3",
   "version": "3.9.7"
  }
 },
 "nbformat": 4,
 "nbformat_minor": 5
}
